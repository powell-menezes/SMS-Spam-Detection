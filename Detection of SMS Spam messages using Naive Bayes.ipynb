{
 "cells": [
  {
   "cell_type": "code",
   "execution_count": 1,
   "metadata": {
    "colab": {},
    "colab_type": "code",
    "id": "xnh6YHM93kE9"
   },
   "outputs": [],
   "source": [
    "import pandas as pd\n",
    "import numpy as np\n",
    "import matplotlib.pyplot as plt"
   ]
  },
  {
   "cell_type": "code",
   "execution_count": 2,
   "metadata": {
    "colab": {},
    "colab_type": "code",
    "id": "BmoZtGQB37Dh"
   },
   "outputs": [],
   "source": [
    "data=pd.read_csv('https://raw.githubusercontent.com/powell-menezes/SMS-Spam-Detection/master/spam.csv',encoding='latin-1')"
   ]
  },
  {
   "cell_type": "code",
   "execution_count": 3,
   "metadata": {
    "colab": {
     "base_uri": "https://localhost:8080/",
     "height": 119
    },
    "colab_type": "code",
    "executionInfo": {
     "elapsed": 13504,
     "status": "ok",
     "timestamp": 1566755489055,
     "user": {
      "displayName": "Powell Menezes",
      "photoUrl": "",
      "userId": "10764350384145038858"
     },
     "user_tz": -330
    },
    "id": "67hVuZZ6rEHg",
    "outputId": "03f66899-3057-4902-a834-c2f2550536d2"
   },
   "outputs": [
    {
     "data": {
      "text/plain": [
       "v1               0\n",
       "v2               0\n",
       "Unnamed: 2    5522\n",
       "Unnamed: 3    5560\n",
       "Unnamed: 4    5566\n",
       "dtype: int64"
      ]
     },
     "execution_count": 3,
     "metadata": {},
     "output_type": "execute_result"
    }
   ],
   "source": [
    "data.isnull().sum()"
   ]
  },
  {
   "cell_type": "code",
   "execution_count": 4,
   "metadata": {
    "colab": {
     "base_uri": "https://localhost:8080/",
     "height": 204
    },
    "colab_type": "code",
    "executionInfo": {
     "elapsed": 8471,
     "status": "ok",
     "timestamp": 1566755489056,
     "user": {
      "displayName": "Powell Menezes",
      "photoUrl": "",
      "userId": "10764350384145038858"
     },
     "user_tz": -330
    },
    "id": "uLGb6TwOdioN",
    "outputId": "f4ec67f6-9604-4a53-91a9-95d763d42f56"
   },
   "outputs": [
    {
     "data": {
      "text/html": [
       "<div>\n",
       "<style scoped>\n",
       "    .dataframe tbody tr th:only-of-type {\n",
       "        vertical-align: middle;\n",
       "    }\n",
       "\n",
       "    .dataframe tbody tr th {\n",
       "        vertical-align: top;\n",
       "    }\n",
       "\n",
       "    .dataframe thead th {\n",
       "        text-align: right;\n",
       "    }\n",
       "</style>\n",
       "<table border=\"1\" class=\"dataframe\">\n",
       "  <thead>\n",
       "    <tr style=\"text-align: right;\">\n",
       "      <th></th>\n",
       "      <th>v1</th>\n",
       "      <th>v2</th>\n",
       "      <th>Unnamed: 2</th>\n",
       "      <th>Unnamed: 3</th>\n",
       "      <th>Unnamed: 4</th>\n",
       "    </tr>\n",
       "  </thead>\n",
       "  <tbody>\n",
       "    <tr>\n",
       "      <th>0</th>\n",
       "      <td>ham</td>\n",
       "      <td>Go until jurong point, crazy.. Available only ...</td>\n",
       "      <td>NaN</td>\n",
       "      <td>NaN</td>\n",
       "      <td>NaN</td>\n",
       "    </tr>\n",
       "    <tr>\n",
       "      <th>1</th>\n",
       "      <td>ham</td>\n",
       "      <td>Ok lar... Joking wif u oni...</td>\n",
       "      <td>NaN</td>\n",
       "      <td>NaN</td>\n",
       "      <td>NaN</td>\n",
       "    </tr>\n",
       "    <tr>\n",
       "      <th>2</th>\n",
       "      <td>spam</td>\n",
       "      <td>Free entry in 2 a wkly comp to win FA Cup fina...</td>\n",
       "      <td>NaN</td>\n",
       "      <td>NaN</td>\n",
       "      <td>NaN</td>\n",
       "    </tr>\n",
       "    <tr>\n",
       "      <th>3</th>\n",
       "      <td>ham</td>\n",
       "      <td>U dun say so early hor... U c already then say...</td>\n",
       "      <td>NaN</td>\n",
       "      <td>NaN</td>\n",
       "      <td>NaN</td>\n",
       "    </tr>\n",
       "    <tr>\n",
       "      <th>4</th>\n",
       "      <td>ham</td>\n",
       "      <td>Nah I don't think he goes to usf, he lives aro...</td>\n",
       "      <td>NaN</td>\n",
       "      <td>NaN</td>\n",
       "      <td>NaN</td>\n",
       "    </tr>\n",
       "  </tbody>\n",
       "</table>\n",
       "</div>"
      ],
      "text/plain": [
       "     v1                                                 v2 Unnamed: 2  \\\n",
       "0   ham  Go until jurong point, crazy.. Available only ...        NaN   \n",
       "1   ham                      Ok lar... Joking wif u oni...        NaN   \n",
       "2  spam  Free entry in 2 a wkly comp to win FA Cup fina...        NaN   \n",
       "3   ham  U dun say so early hor... U c already then say...        NaN   \n",
       "4   ham  Nah I don't think he goes to usf, he lives aro...        NaN   \n",
       "\n",
       "  Unnamed: 3 Unnamed: 4  \n",
       "0        NaN        NaN  \n",
       "1        NaN        NaN  \n",
       "2        NaN        NaN  \n",
       "3        NaN        NaN  \n",
       "4        NaN        NaN  "
      ]
     },
     "execution_count": 4,
     "metadata": {},
     "output_type": "execute_result"
    }
   ],
   "source": [
    "df_sms=data\n",
    "df_sms.head()"
   ]
  },
  {
   "cell_type": "code",
   "execution_count": 5,
   "metadata": {
    "colab": {},
    "colab_type": "code",
    "id": "DhjtbpXU5_Bp"
   },
   "outputs": [],
   "source": [
    "df_sms=df_sms.drop(['Unnamed: 2','Unnamed: 3','Unnamed: 4'],axis=1)"
   ]
  },
  {
   "cell_type": "markdown",
   "metadata": {
    "colab_type": "text",
    "id": "w0Rr2NK-ira3"
   },
   "source": [
    "drop unwanted columns"
   ]
  },
  {
   "cell_type": "code",
   "execution_count": 6,
   "metadata": {
    "colab": {},
    "colab_type": "code",
    "id": "oH80Uwd9dith"
   },
   "outputs": [],
   "source": [
    "\n",
    "df_sms = df_sms.rename(columns={\"v1\":\"label\", \"v2\":\"sms\"})"
   ]
  },
  {
   "cell_type": "code",
   "execution_count": 7,
   "metadata": {
    "colab": {
     "base_uri": "https://localhost:8080/",
     "height": 204
    },
    "colab_type": "code",
    "executionInfo": {
     "elapsed": 933,
     "status": "ok",
     "timestamp": 1566755636743,
     "user": {
      "displayName": "Powell Menezes",
      "photoUrl": "",
      "userId": "10764350384145038858"
     },
     "user_tz": -330
    },
    "id": "Gs2_Gy3ldizE",
    "outputId": "c488e39d-8eba-4c09-8cfe-edf2ff239a59"
   },
   "outputs": [
    {
     "data": {
      "text/html": [
       "<div>\n",
       "<style scoped>\n",
       "    .dataframe tbody tr th:only-of-type {\n",
       "        vertical-align: middle;\n",
       "    }\n",
       "\n",
       "    .dataframe tbody tr th {\n",
       "        vertical-align: top;\n",
       "    }\n",
       "\n",
       "    .dataframe thead th {\n",
       "        text-align: right;\n",
       "    }\n",
       "</style>\n",
       "<table border=\"1\" class=\"dataframe\">\n",
       "  <thead>\n",
       "    <tr style=\"text-align: right;\">\n",
       "      <th></th>\n",
       "      <th>label</th>\n",
       "      <th>sms</th>\n",
       "    </tr>\n",
       "  </thead>\n",
       "  <tbody>\n",
       "    <tr>\n",
       "      <th>0</th>\n",
       "      <td>ham</td>\n",
       "      <td>Go until jurong point, crazy.. Available only ...</td>\n",
       "    </tr>\n",
       "    <tr>\n",
       "      <th>1</th>\n",
       "      <td>ham</td>\n",
       "      <td>Ok lar... Joking wif u oni...</td>\n",
       "    </tr>\n",
       "    <tr>\n",
       "      <th>2</th>\n",
       "      <td>spam</td>\n",
       "      <td>Free entry in 2 a wkly comp to win FA Cup fina...</td>\n",
       "    </tr>\n",
       "    <tr>\n",
       "      <th>3</th>\n",
       "      <td>ham</td>\n",
       "      <td>U dun say so early hor... U c already then say...</td>\n",
       "    </tr>\n",
       "    <tr>\n",
       "      <th>4</th>\n",
       "      <td>ham</td>\n",
       "      <td>Nah I don't think he goes to usf, he lives aro...</td>\n",
       "    </tr>\n",
       "  </tbody>\n",
       "</table>\n",
       "</div>"
      ],
      "text/plain": [
       "  label                                                sms\n",
       "0   ham  Go until jurong point, crazy.. Available only ...\n",
       "1   ham                      Ok lar... Joking wif u oni...\n",
       "2  spam  Free entry in 2 a wkly comp to win FA Cup fina...\n",
       "3   ham  U dun say so early hor... U c already then say...\n",
       "4   ham  Nah I don't think he goes to usf, he lives aro..."
      ]
     },
     "execution_count": 7,
     "metadata": {},
     "output_type": "execute_result"
    }
   ],
   "source": [
    "df_sms.head()"
   ]
  },
  {
   "cell_type": "code",
   "execution_count": 8,
   "metadata": {
    "colab": {
     "base_uri": "https://localhost:8080/",
     "height": 34
    },
    "colab_type": "code",
    "executionInfo": {
     "elapsed": 694,
     "status": "ok",
     "timestamp": 1566755638181,
     "user": {
      "displayName": "Powell Menezes",
      "photoUrl": "",
      "userId": "10764350384145038858"
     },
     "user_tz": -330
    },
    "id": "7I52n_MAdi5E",
    "outputId": "3990014a-bcca-4771-e4b3-b14684a1a892"
   },
   "outputs": [
    {
     "data": {
      "text/plain": [
       "(5572, 2)"
      ]
     },
     "execution_count": 8,
     "metadata": {},
     "output_type": "execute_result"
    }
   ],
   "source": [
    "\n",
    "df_sms.shape"
   ]
  },
  {
   "cell_type": "code",
   "execution_count": 9,
   "metadata": {
    "colab": {
     "base_uri": "https://localhost:8080/",
     "height": 136
    },
    "colab_type": "code",
    "executionInfo": {
     "elapsed": 641,
     "status": "ok",
     "timestamp": 1566755638725,
     "user": {
      "displayName": "Powell Menezes",
      "photoUrl": "",
      "userId": "10764350384145038858"
     },
     "user_tz": -330
    },
    "id": "_Eq8qPc-rNy9",
    "outputId": "00fff418-11be-44ec-92a6-470620ec67a0"
   },
   "outputs": [
    {
     "name": "stdout",
     "output_type": "stream",
     "text": [
      "<class 'pandas.core.frame.DataFrame'>\n",
      "RangeIndex: 5572 entries, 0 to 5571\n",
      "Data columns (total 2 columns):\n",
      "label    5572 non-null object\n",
      "sms      5572 non-null object\n",
      "dtypes: object(2)\n",
      "memory usage: 87.2+ KB\n"
     ]
    }
   ],
   "source": [
    "df_sms.info()"
   ]
  },
  {
   "cell_type": "code",
   "execution_count": 153,
   "metadata": {
    "colab": {
     "base_uri": "https://localhost:8080/",
     "height": 300
    },
    "colab_type": "code",
    "executionInfo": {
     "elapsed": 1646,
     "status": "ok",
     "timestamp": 1566755640548,
     "user": {
      "displayName": "Powell Menezes",
      "photoUrl": "",
      "userId": "10764350384145038858"
     },
     "user_tz": -330
    },
    "id": "pHMw-aiydi9t",
    "outputId": "05a09f89-5fd1-484e-e002-62b6e7228d7c"
   },
   "outputs": [
    {
     "data": {
      "text/plain": [
       "<matplotlib.axes._subplots.AxesSubplot at 0x7f5cc0f9e8d0>"
      ]
     },
     "execution_count": 153,
     "metadata": {
      "tags": []
     },
     "output_type": "execute_result"
    },
    {
     "data": {
      "image/png": "[encoded data removed]",
      "text/plain": [
       "<Figure size 432x288 with 1 Axes>"
      ]
     },
     "metadata": {
      "tags": []
     },
     "output_type": "display_data"
    }
   ],
   "source": [
    "import seaborn as sns\n",
    "sns.countplot(x=\"label\", data=df_sms)"
   ]
  },
  {
   "cell_type": "code",
   "execution_count": 154,
   "metadata": {
    "colab": {
     "base_uri": "https://localhost:8080/",
     "height": 173
    },
    "colab_type": "code",
    "executionInfo": {
     "elapsed": 1967,
     "status": "ok",
     "timestamp": 1566755641280,
     "user": {
      "displayName": "Powell Menezes",
      "photoUrl": "",
      "userId": "10764350384145038858"
     },
     "user_tz": -330
    },
    "id": "o0c3ok7Ndi4D",
    "outputId": "a5e8bc38-1da6-46b8-9ab1-90e210293d88"
   },
   "outputs": [
    {
     "data": {
      "text/html": [
       "<div>\n",
       "<style scoped>\n",
       "    .dataframe tbody tr th:only-of-type {\n",
       "        vertical-align: middle;\n",
       "    }\n",
       "\n",
       "    .dataframe tbody tr th {\n",
       "        vertical-align: top;\n",
       "    }\n",
       "\n",
       "    .dataframe thead th {\n",
       "        text-align: right;\n",
       "    }\n",
       "</style>\n",
       "<table border=\"1\" class=\"dataframe\">\n",
       "  <thead>\n",
       "    <tr style=\"text-align: right;\">\n",
       "      <th></th>\n",
       "      <th>label</th>\n",
       "      <th>sms</th>\n",
       "    </tr>\n",
       "  </thead>\n",
       "  <tbody>\n",
       "    <tr>\n",
       "      <th>count</th>\n",
       "      <td>5572</td>\n",
       "      <td>5572</td>\n",
       "    </tr>\n",
       "    <tr>\n",
       "      <th>unique</th>\n",
       "      <td>2</td>\n",
       "      <td>5169</td>\n",
       "    </tr>\n",
       "    <tr>\n",
       "      <th>top</th>\n",
       "      <td>ham</td>\n",
       "      <td>Sorry, I'll call later</td>\n",
       "    </tr>\n",
       "    <tr>\n",
       "      <th>freq</th>\n",
       "      <td>4825</td>\n",
       "      <td>30</td>\n",
       "    </tr>\n",
       "  </tbody>\n",
       "</table>\n",
       "</div>"
      ],
      "text/plain": [
       "       label                     sms\n",
       "count   5572                    5572\n",
       "unique     2                    5169\n",
       "top      ham  Sorry, I'll call later\n",
       "freq    4825                      30"
      ]
     },
     "execution_count": 154,
     "metadata": {
      "tags": []
     },
     "output_type": "execute_result"
    }
   ],
   "source": [
    "df_sms.describe()"
   ]
  },
  {
   "cell_type": "code",
   "execution_count": 155,
   "metadata": {
    "colab": {
     "base_uri": "https://localhost:8080/",
     "height": 204
    },
    "colab_type": "code",
    "executionInfo": {
     "elapsed": 1608,
     "status": "ok",
     "timestamp": 1566755641282,
     "user": {
      "displayName": "Powell Menezes",
      "photoUrl": "",
      "userId": "10764350384145038858"
     },
     "user_tz": -330
    },
    "id": "whPOAYQ2diyN",
    "outputId": "98008842-a935-4cc5-a370-ebe4e7737a12"
   },
   "outputs": [
    {
     "data": {
      "text/html": [
       "<div>\n",
       "<style scoped>\n",
       "    .dataframe tbody tr th:only-of-type {\n",
       "        vertical-align: middle;\n",
       "    }\n",
       "\n",
       "    .dataframe tbody tr th {\n",
       "        vertical-align: top;\n",
       "    }\n",
       "\n",
       "    .dataframe thead th {\n",
       "        text-align: right;\n",
       "    }\n",
       "</style>\n",
       "<table border=\"1\" class=\"dataframe\">\n",
       "  <thead>\n",
       "    <tr style=\"text-align: right;\">\n",
       "      <th></th>\n",
       "      <th>label</th>\n",
       "      <th>sms</th>\n",
       "      <th>length</th>\n",
       "    </tr>\n",
       "  </thead>\n",
       "  <tbody>\n",
       "    <tr>\n",
       "      <th>0</th>\n",
       "      <td>ham</td>\n",
       "      <td>Go until jurong point, crazy.. Available only ...</td>\n",
       "      <td>111</td>\n",
       "    </tr>\n",
       "    <tr>\n",
       "      <th>1</th>\n",
       "      <td>ham</td>\n",
       "      <td>Ok lar... Joking wif u oni...</td>\n",
       "      <td>29</td>\n",
       "    </tr>\n",
       "    <tr>\n",
       "      <th>2</th>\n",
       "      <td>spam</td>\n",
       "      <td>Free entry in 2 a wkly comp to win FA Cup fina...</td>\n",
       "      <td>155</td>\n",
       "    </tr>\n",
       "    <tr>\n",
       "      <th>3</th>\n",
       "      <td>ham</td>\n",
       "      <td>U dun say so early hor... U c already then say...</td>\n",
       "      <td>49</td>\n",
       "    </tr>\n",
       "    <tr>\n",
       "      <th>4</th>\n",
       "      <td>ham</td>\n",
       "      <td>Nah I don't think he goes to usf, he lives aro...</td>\n",
       "      <td>61</td>\n",
       "    </tr>\n",
       "  </tbody>\n",
       "</table>\n",
       "</div>"
      ],
      "text/plain": [
       "  label                                                sms  length\n",
       "0   ham  Go until jurong point, crazy.. Available only ...     111\n",
       "1   ham                      Ok lar... Joking wif u oni...      29\n",
       "2  spam  Free entry in 2 a wkly comp to win FA Cup fina...     155\n",
       "3   ham  U dun say so early hor... U c already then say...      49\n",
       "4   ham  Nah I don't think he goes to usf, he lives aro...      61"
      ]
     },
     "execution_count": 155,
     "metadata": {
      "tags": []
     },
     "output_type": "execute_result"
    }
   ],
   "source": [
    "df_sms['length'] = df_sms['sms'].apply(len)\n",
    "df_sms.head()"
   ]
  },
  {
   "cell_type": "code",
   "execution_count": 156,
   "metadata": {
    "colab": {
     "base_uri": "https://localhost:8080/",
     "height": 340
    },
    "colab_type": "code",
    "executionInfo": {
     "elapsed": 4610,
     "status": "ok",
     "timestamp": 1566755644642,
     "user": {
      "displayName": "Powell Menezes",
      "photoUrl": "",
      "userId": "10764350384145038858"
     },
     "user_tz": -330
    },
    "id": "7xJrdFz8disn",
    "outputId": "4d0d7120-bec6-44a7-e441-89e8a64c6cd1"
   },
   "outputs": [
    {
     "data": {
      "text/plain": [
       "array([<matplotlib.axes._subplots.AxesSubplot object at 0x7f5cc0f83630>,\n",
       "       <matplotlib.axes._subplots.AxesSubplot object at 0x7f5cc0f5aba8>],\n",
       "      dtype=object)"
      ]
     },
     "execution_count": 156,
     "metadata": {
      "tags": []
     },
     "output_type": "execute_result"
    },
    {
     "data": {
      "image/png": "[encoded data removed]",
      "text/plain": [
       "<Figure size 720x288 with 2 Axes>"
      ]
     },
     "metadata": {
      "tags": []
     },
     "output_type": "display_data"
    }
   ],
   "source": [
    "df_sms.hist(column='length', by='label', bins=50,figsize=(10,4))\n"
   ]
  },
  {
   "cell_type": "markdown",
   "metadata": {
    "colab_type": "text",
    "id": "wLH0ooMikTE8"
   },
   "source": [
    "changing label values to 0 and 1"
   ]
  },
  {
   "cell_type": "code",
   "execution_count": 157,
   "metadata": {
    "colab": {
     "base_uri": "https://localhost:8080/",
     "height": 221
    },
    "colab_type": "code",
    "executionInfo": {
     "elapsed": 10795,
     "status": "ok",
     "timestamp": 1566755651756,
     "user": {
      "displayName": "Powell Menezes",
      "photoUrl": "",
      "userId": "10764350384145038858"
     },
     "user_tz": -330
    },
    "id": "y0BaVqnwdimq",
    "outputId": "2c6d0f52-de5a-42ba-ab51-5121a9ebf47b"
   },
   "outputs": [
    {
     "name": "stdout",
     "output_type": "stream",
     "text": [
      "(5572, 3)\n"
     ]
    },
    {
     "data": {
      "text/html": [
       "<div>\n",
       "<style scoped>\n",
       "    .dataframe tbody tr th:only-of-type {\n",
       "        vertical-align: middle;\n",
       "    }\n",
       "\n",
       "    .dataframe tbody tr th {\n",
       "        vertical-align: top;\n",
       "    }\n",
       "\n",
       "    .dataframe thead th {\n",
       "        text-align: right;\n",
       "    }\n",
       "</style>\n",
       "<table border=\"1\" class=\"dataframe\">\n",
       "  <thead>\n",
       "    <tr style=\"text-align: right;\">\n",
       "      <th></th>\n",
       "      <th>label</th>\n",
       "      <th>sms</th>\n",
       "      <th>length</th>\n",
       "    </tr>\n",
       "  </thead>\n",
       "  <tbody>\n",
       "    <tr>\n",
       "      <th>0</th>\n",
       "      <td>0</td>\n",
       "      <td>Go until jurong point, crazy.. Available only ...</td>\n",
       "      <td>111</td>\n",
       "    </tr>\n",
       "    <tr>\n",
       "      <th>1</th>\n",
       "      <td>0</td>\n",
       "      <td>Ok lar... Joking wif u oni...</td>\n",
       "      <td>29</td>\n",
       "    </tr>\n",
       "    <tr>\n",
       "      <th>2</th>\n",
       "      <td>1</td>\n",
       "      <td>Free entry in 2 a wkly comp to win FA Cup fina...</td>\n",
       "      <td>155</td>\n",
       "    </tr>\n",
       "    <tr>\n",
       "      <th>3</th>\n",
       "      <td>0</td>\n",
       "      <td>U dun say so early hor... U c already then say...</td>\n",
       "      <td>49</td>\n",
       "    </tr>\n",
       "    <tr>\n",
       "      <th>4</th>\n",
       "      <td>0</td>\n",
       "      <td>Nah I don't think he goes to usf, he lives aro...</td>\n",
       "      <td>61</td>\n",
       "    </tr>\n",
       "  </tbody>\n",
       "</table>\n",
       "</div>"
      ],
      "text/plain": [
       "   label                                                sms  length\n",
       "0      0  Go until jurong point, crazy.. Available only ...     111\n",
       "1      0                      Ok lar... Joking wif u oni...      29\n",
       "2      1  Free entry in 2 a wkly comp to win FA Cup fina...     155\n",
       "3      0  U dun say so early hor... U c already then say...      49\n",
       "4      0  Nah I don't think he goes to usf, he lives aro...      61"
      ]
     },
     "execution_count": 157,
     "metadata": {
      "tags": []
     },
     "output_type": "execute_result"
    }
   ],
   "source": [
    "df_sms.loc[:,'label'] = df_sms.label.map({'ham':0, 'spam':1})\n",
    "print(df_sms.shape)\n",
    "df_sms.head()"
   ]
  },
  {
   "cell_type": "code",
   "execution_count": 0,
   "metadata": {
    "colab": {},
    "colab_type": "code",
    "id": "4uGezdnEenkV"
   },
   "outputs": [],
   "source": []
  },
  {
   "cell_type": "code",
   "execution_count": 0,
   "metadata": {
    "colab": {},
    "colab_type": "code",
    "id": "FdkqWUZQeo9h"
   },
   "outputs": [],
   "source": []
  },
  {
   "cell_type": "markdown",
   "metadata": {
    "colab_type": "text",
    "id": "uBa4AF8Fkfdz"
   },
   "source": [
    "splitting data into train and test (80-20)"
   ]
  },
  {
   "cell_type": "code",
   "execution_count": 0,
   "metadata": {
    "colab": {},
    "colab_type": "code",
    "id": "KDl-abLBepDo"
   },
   "outputs": [],
   "source": [
    "\n",
    "from sklearn.model_selection import train_test_split\n",
    "\n",
    "X_train, X_test, y_train, y_test = train_test_split(df_sms['sms'], \n",
    "                                                    df_sms['label'],test_size=0.20, \n",
    "                                                    random_state=1)\n"
   ]
  },
  {
   "cell_type": "markdown",
   "metadata": {
    "colab_type": "text",
    "id": "bnHNwee7kn-B"
   },
   "source": [
    "processing data using CountVectorizer and TfidfVectorizer which will be the input for algorithm"
   ]
  },
  {
   "cell_type": "code",
   "execution_count": 0,
   "metadata": {
    "colab": {},
    "colab_type": "code",
    "id": "L0aUQfVcepI4"
   },
   "outputs": [],
   "source": [
    "from sklearn.feature_extraction.text import CountVectorizer,TfidfVectorizer\n",
    "from sklearn.preprocessing import StandardScaler\n",
    "\n",
    "count_vector = CountVectorizer()\n",
    "count_vector = CountVectorizer()\n",
    "\n",
    "# Fit the training data and then return the matrix\n",
    "training_data = count_vector.fit_transform(X_train)\n",
    "# count and fit\n",
    "# Transform testing data and return the matrix. \n",
    "testing_data = count_vector.transform(X_test)"
   ]
  },
  {
   "cell_type": "code",
   "execution_count": 160,
   "metadata": {
    "colab": {
     "base_uri": "https://localhost:8080/",
     "height": 68
    },
    "colab_type": "code",
    "executionInfo": {
     "elapsed": 10343,
     "status": "ok",
     "timestamp": 1566755655332,
     "user": {
      "displayName": "Powell Menezes",
      "photoUrl": "",
      "userId": "10764350384145038858"
     },
     "user_tz": -330
    },
    "id": "qajUAv8FepOr",
    "outputId": "44d22d07-2975-4b36-a440-605ace4a85e3"
   },
   "outputs": [
    {
     "data": {
      "text/plain": [
       "1642                             Sleeping nt feeling well\n",
       "2899    Come aftr  &lt;DECIMAL&gt; ..now i m cleaning ...\n",
       "Name: sms, dtype: object"
      ]
     },
     "execution_count": 160,
     "metadata": {
      "tags": []
     },
     "output_type": "execute_result"
    }
   ],
   "source": [
    "X_train.head(2)"
   ]
  },
  {
   "cell_type": "code",
   "execution_count": 161,
   "metadata": {
    "colab": {
     "base_uri": "https://localhost:8080/",
     "height": 136
    },
    "colab_type": "code",
    "executionInfo": {
     "elapsed": 9623,
     "status": "ok",
     "timestamp": 1566755655337,
     "user": {
      "displayName": "Powell Menezes",
      "photoUrl": "",
      "userId": "10764350384145038858"
     },
     "user_tz": -330
    },
    "id": "1ccPcjmcmM-x",
    "outputId": "f296d85c-e29c-42ea-b6bd-a8e1a1d3ee0f"
   },
   "outputs": [
    {
     "data": {
      "text/plain": [
       "array([[0, 0, 0, ..., 0, 0, 0],\n",
       "       [0, 0, 0, ..., 0, 0, 0],\n",
       "       [0, 0, 0, ..., 0, 0, 0],\n",
       "       ...,\n",
       "       [0, 0, 0, ..., 0, 0, 0],\n",
       "       [0, 0, 0, ..., 0, 0, 0],\n",
       "       [0, 0, 0, ..., 0, 0, 0]])"
      ]
     },
     "execution_count": 161,
     "metadata": {
      "tags": []
     },
     "output_type": "execute_result"
    }
   ],
   "source": [
    "pd.set_option('display.max_columns',None)\n",
    "a=training_data.toarray()\n",
    "\n",
    "a"
   ]
  },
  {
   "cell_type": "code",
   "execution_count": 162,
   "metadata": {
    "colab": {
     "base_uri": "https://localhost:8080/",
     "height": 34
    },
    "colab_type": "code",
    "executionInfo": {
     "elapsed": 8780,
     "status": "ok",
     "timestamp": 1566755655338,
     "user": {
      "displayName": "Powell Menezes",
      "photoUrl": "",
      "userId": "10764350384145038858"
     },
     "user_tz": -330
    },
    "id": "J-ILTmMk17cx",
    "outputId": "30aac2a0-2648-4a02-ba92-7a585c384001"
   },
   "outputs": [
    {
     "data": {
      "text/plain": [
       "array([0, 0, 0, ..., 0, 0, 0])"
      ]
     },
     "execution_count": 162,
     "metadata": {
      "tags": []
     },
     "output_type": "execute_result"
    }
   ],
   "source": [
    "\n",
    "a[0]"
   ]
  },
  {
   "cell_type": "code",
   "execution_count": 163,
   "metadata": {
    "colab": {
     "base_uri": "https://localhost:8080/",
     "height": 34
    },
    "colab_type": "code",
    "executionInfo": {
     "elapsed": 8149,
     "status": "ok",
     "timestamp": 1566755655339,
     "user": {
      "displayName": "Powell Menezes",
      "photoUrl": "",
      "userId": "10764350384145038858"
     },
     "user_tz": -330
    },
    "id": "DK8mmEZU6XT3",
    "outputId": "5e7fa9de-6fd5-4e6b-df39-e2fd85229fd6"
   },
   "outputs": [
    {
     "data": {
      "text/plain": [
       "[array(['feeling', 'nt', 'sleeping', 'well'], dtype='<U34')]"
      ]
     },
     "execution_count": 163,
     "metadata": {
      "tags": []
     },
     "output_type": "execute_result"
    }
   ],
   "source": [
    "count_vector.inverse_transform(a[0])"
   ]
  },
  {
   "cell_type": "code",
   "execution_count": 0,
   "metadata": {
    "colab": {},
    "colab_type": "code",
    "id": "04ShHsFSz1wZ"
   },
   "outputs": [],
   "source": [
    "count_vector=TfidfVectorizer(stop_words='english')\n",
    "\n",
    "training_data = count_vector.fit_transform(X_train)\n",
    "\n",
    "testing_data = count_vector.transform(X_test)"
   ]
  },
  {
   "cell_type": "code",
   "execution_count": 165,
   "metadata": {
    "colab": {
     "base_uri": "https://localhost:8080/",
     "height": 1000
    },
    "colab_type": "code",
    "executionInfo": {
     "elapsed": 7079,
     "status": "ok",
     "timestamp": 1566755655340,
     "user": {
      "displayName": "Powell Menezes",
      "photoUrl": "",
      "userId": "10764350384145038858"
     },
     "user_tz": -330
    },
    "id": "6mOLVe3ovzBw",
    "outputId": "3c72789a-30c4-41de-9b74-c6fe8f83d768"
   },
   "outputs": [
    {
     "data": {
      "text/plain": [
       "{'sleeping': 6051,\n",
       " 'nt': 4734,\n",
       " 'feeling': 2739,\n",
       " 'come': 1861,\n",
       " 'aftr': 846,\n",
       " 'lt': 4152,\n",
       " 'decimal': 2162,\n",
       " 'gt': 3179,\n",
       " 'cleaning': 1794,\n",
       " 'house': 3431,\n",
       " 'sec': 5814,\n",
       " 'yeah': 7437,\n",
       " 'probably': 5280,\n",
       " 'earlier': 2453,\n",
       " 'hello': 3312,\n",
       " 'love': 4130,\n",
       " 'doing': 2353,\n",
       " 'did': 2254,\n",
       " 'interview': 3620,\n",
       " 'today': 6752,\n",
       " 'happy': 3252,\n",
       " 'good': 3101,\n",
       " 'boy': 1430,\n",
       " 'think': 6666,\n",
       " 'missing': 4412,\n",
       " '2mro': 408,\n",
       " 'coming': 1867,\n",
       " 'gym': 3203,\n",
       " 'machan': 4195,\n",
       " 'goodnight': 3107,\n",
       " 'free': 2908,\n",
       " 'ring': 5634,\n",
       " 'tone': 6770,\n",
       " 'just': 3779,\n",
       " 'text': 6620,\n",
       " 'polys': 5154,\n",
       " '87131': 686,\n",
       " 'week': 7217,\n",
       " 'new': 4654,\n",
       " '0870737910216yrs': 89,\n",
       " '50': 535,\n",
       " 'wk': 7314,\n",
       " 'camera': 1584,\n",
       " 'awarded': 1136,\n",
       " 'sipix': 6016,\n",
       " 'digital': 2273,\n",
       " '09061221066': 192,\n",
       " 'fromm': 2942,\n",
       " 'landline': 3913,\n",
       " 'delivery': 2194,\n",
       " '28': 382,\n",
       " 'days': 2139,\n",
       " 'tbs': 6559,\n",
       " 'persolvo': 5022,\n",
       " 'chasing': 1700,\n",
       " 'sept': 5865,\n",
       " 'forå': 2895,\n",
       " '38': 457,\n",
       " 'definitely': 2181,\n",
       " 'paying': 4985,\n",
       " 'thanks': 6633,\n",
       " 'information': 3581,\n",
       " 'ignore': 3513,\n",
       " 'kath': 3807,\n",
       " 'manchester': 4243,\n",
       " 'small': 6075,\n",
       " 'problem': 5281,\n",
       " 'auction': 1103,\n",
       " 'punj': 5345,\n",
       " 'asking': 1064,\n",
       " 'tiwary': 6733,\n",
       " 'know': 3867,\n",
       " 'fancies': 2704,\n",
       " '09058097218': 185,\n",
       " 'pobox': 5126,\n",
       " 'ls15hb': 4149,\n",
       " '150p': 307,\n",
       " 'chance': 1680,\n",
       " 'search': 5810,\n",
       " 'hard': 3253,\n",
       " 'let': 3992,\n",
       " 'try': 6860,\n",
       " 'happened': 3245,\n",
       " 'adventuring': 826,\n",
       " 'eat': 2463,\n",
       " 'old': 4812,\n",
       " 'airport': 875,\n",
       " 'road': 5647,\n",
       " '630': 579,\n",
       " 'oredi': 4858,\n",
       " 'got': 3117,\n",
       " 'lot': 4118,\n",
       " 'pple': 5200,\n",
       " 'sent': 5860,\n",
       " 'ur': 6987,\n",
       " 'email': 2513,\n",
       " 'id': 3499,\n",
       " 'soon': 6152,\n",
       " 'hey': 3335,\n",
       " 'want': 7155,\n",
       " 'yogasana': 7459,\n",
       " 'coz': 2002,\n",
       " 'end': 2527,\n",
       " 'cine': 1773,\n",
       " 'bathe': 1219,\n",
       " 'hav': 3271,\n",
       " 'steam': 6297,\n",
       " 'bath': 1218,\n",
       " 'fundamentals': 2962,\n",
       " 'cool': 1960,\n",
       " 'life': 4006,\n",
       " 'walk': 7141,\n",
       " 'parents': 4945,\n",
       " 'kidz': 3839,\n",
       " 'friends': 2929,\n",
       " 'colleagues': 1847,\n",
       " 'screaming': 5800,\n",
       " 'surprise': 6466,\n",
       " 'waiting': 7136,\n",
       " 'sofa': 6121,\n",
       " 'naked': 4577,\n",
       " 'sorry': 6162,\n",
       " 'missed': 4410,\n",
       " 'talk': 6528,\n",
       " 'time': 6716,\n",
       " '07090201529': 25,\n",
       " 'ok': 4799,\n",
       " 'ìï': 7501,\n",
       " 'finishing': 2792,\n",
       " 'dun': 2440,\n",
       " 'say': 5772,\n",
       " 'early': 2455,\n",
       " 'hor': 3410,\n",
       " 'gandhipuram': 2988,\n",
       " 'cross': 2038,\n",
       " 'cut': 2087,\n",
       " 'right': 5629,\n",
       " 'street': 6345,\n",
       " 'turn': 6877,\n",
       " 'hi': 3340,\n",
       " 'dear': 2149,\n",
       " 'urgnt': 6993,\n",
       " 'don': 2362,\n",
       " 'whats': 7254,\n",
       " 'work': 7350,\n",
       " 'tell': 6586,\n",
       " 'wating': 7184,\n",
       " 'reply': 5563,\n",
       " 'pls': 5115,\n",
       " 'help': 3315,\n",
       " 'ashley': 1056,\n",
       " 'number': 4743,\n",
       " 'oh': 4794,\n",
       " 'umma': 6919,\n",
       " 'dont': 2365,\n",
       " 'studying': 6372,\n",
       " 'stress': 6346,\n",
       " 'l8r': 3890,\n",
       " 'stupid': 6378,\n",
       " 'possible': 5178,\n",
       " 'better': 1296,\n",
       " 'catch': 1642,\n",
       " 'ask': 1060,\n",
       " 'sell': 5843,\n",
       " 'wen': 7234,\n",
       " 'finish': 2789,\n",
       " 'wrk': 7379,\n",
       " 'fancy': 2705,\n",
       " 'meetin': 4327,\n",
       " 'wiv': 7313,\n",
       " 'tonite': 6777,\n",
       " 'need': 4624,\n",
       " 'break': 1448,\n",
       " 'dabooks': 2102,\n",
       " 'hrs': 3443,\n",
       " 'nite': 4686,\n",
       " 'movie': 4508,\n",
       " 'leave': 3969,\n",
       " 'hourish': 3429,\n",
       " 'taj': 6520,\n",
       " 'mahal': 4217,\n",
       " 'symbol': 6501,\n",
       " 'lesser': 3989,\n",
       " 'known': 3869,\n",
       " 'facts': 2680,\n",
       " 'mumtaz': 4546,\n",
       " 'shahjahan': 5897,\n",
       " '4th': 525,\n",
       " 'wife': 7275,\n",
       " 'wifes': 7276,\n",
       " 'killed': 3841,\n",
       " 'husband': 3471,\n",
       " 'marry': 4268,\n",
       " 'died': 2260,\n",
       " 'th': 6630,\n",
       " 'married': 4267,\n",
       " 'sister': 6021,\n",
       " 'question': 5376,\n",
       " 'arises': 1032,\n",
       " 'hell': 3310,\n",
       " 'great': 3152,\n",
       " 'hari': 3257,\n",
       " 'treat': 6832,\n",
       " 'chinese': 1750,\n",
       " 'food': 2859,\n",
       " 'way': 7190,\n",
       " 'fat': 2717,\n",
       " 'lipo': 4042,\n",
       " 'complain': 1882,\n",
       " 'num': 4742,\n",
       " 'bettr': 1298,\n",
       " 'directly': 2289,\n",
       " 'bsnl': 1497,\n",
       " 'offc': 4778,\n",
       " 'nd': 4611,\n",
       " 'apply': 998,\n",
       " 'uhhhhrmm': 6912,\n",
       " 'isnt': 3657,\n",
       " 'having': 3278,\n",
       " 'tb': 6558,\n",
       " 'test': 6614,\n",
       " 'bad': 1165,\n",
       " 'youre': 7465,\n",
       " 'sick': 5986,\n",
       " 'goodmorning': 3106,\n",
       " 'late': 3934,\n",
       " '2hrs': 399,\n",
       " 'pain': 4917,\n",
       " 'remember': 5533,\n",
       " 'day': 2138,\n",
       " 'theory': 6655,\n",
       " 'ì_': 7499,\n",
       " 'going': 3091,\n",
       " 'book': 1388,\n",
       " '21': 361,\n",
       " 'thought': 6683,\n",
       " 'wanna': 7153,\n",
       " 'jiayin': 3727,\n",
       " 'bit': 1328,\n",
       " 'smile': 6086,\n",
       " 'hppnss': 3440,\n",
       " 'drop': 2413,\n",
       " 'tear': 6572,\n",
       " 'sorrow': 6160,\n",
       " 'heart': 3296,\n",
       " 'like': 4017,\n",
       " 'wil': 7280,\n",
       " 'care': 1611,\n",
       " 'forevr': 2873,\n",
       " 'goodfriend': 3103,\n",
       " 'saying': 5773,\n",
       " 'clearly': 1798,\n",
       " 'thk': 6675,\n",
       " '530': 554,\n",
       " 'lor': 4110,\n",
       " 'dunno': 2442,\n",
       " 'tickets': 6706,\n",
       " 'wat': 7175,\n",
       " 'hear': 3292,\n",
       " 'philosophy': 5043,\n",
       " 'happen': 3243,\n",
       " 'talking': 6532,\n",
       " 'thats': 6641,\n",
       " 'wont': 7342,\n",
       " 'read': 5441,\n",
       " 'exams': 2627,\n",
       " 'gr8': 3129,\n",
       " 'message': 4357,\n",
       " 'leaving': 3971,\n",
       " 'congrats': 1919,\n",
       " 'school': 5783,\n",
       " 'plans': 5099,\n",
       " 'belive': 1273,\n",
       " 'home': 3385,\n",
       " 'yes': 7448,\n",
       " 'office': 4784,\n",
       " 'lap': 3923,\n",
       " 'room': 5666,\n",
       " 'didnt': 2256,\n",
       " 'shut': 5980,\n",
       " 'mah': 4216,\n",
       " 'll': 4065,\n",
       " 'pick': 5060,\n",
       " 'tomorrow': 6768,\n",
       " 'gei': 3020,\n",
       " 'happend': 3244,\n",
       " 'tron': 6845,\n",
       " 'maybe': 4304,\n",
       " 'ill': 3519,\n",
       " 'dl': 2323,\n",
       " '3d': 460,\n",
       " 'hurry': 3468,\n",
       " 've': 7045,\n",
       " 'weed': 7216,\n",
       " 'deficient': 2179,\n",
       " 'ringtone': 5636,\n",
       " 'order': 4856,\n",
       " 'reference': 5497,\n",
       " 'x29': 7401,\n",
       " 'mobile': 4445,\n",
       " 'charged': 1692,\n",
       " 'arrive': 1042,\n",
       " 'customer': 2083,\n",
       " 'services': 5873,\n",
       " '09065989180': 223,\n",
       " 'amanda': 917,\n",
       " 'regard': 5509,\n",
       " 'renewing': 5550,\n",
       " 'upgrading': 6978,\n",
       " 'current': 2075,\n",
       " 'handset': 3233,\n",
       " 'charge': 1691,\n",
       " 'offer': 4780,\n",
       " 'ends': 2531,\n",
       " 'tel': 6581,\n",
       " '0845': 68,\n",
       " '021': 14,\n",
       " '3680': 453,\n",
       " 'subject': 6383,\n",
       " 'hungry': 3463,\n",
       " 'gay': 3006,\n",
       " 'guys': 3200,\n",
       " '08718730555': 147,\n",
       " '10p': 271,\n",
       " 'min': 4381,\n",
       " 'stop': 6323,\n",
       " 'texts': 6629,\n",
       " '08712460324': 115,\n",
       " 'romcapspam': 5664,\n",
       " 'responding': 5592,\n",
       " 'presence': 5239,\n",
       " 'warm': 7161,\n",
       " 'outgoing': 4882,\n",
       " 'bringing': 1471,\n",
       " 'real': 5446,\n",
       " 'breath': 1453,\n",
       " 'sunshine': 6441,\n",
       " 'buy': 1535,\n",
       " 'space': 6184,\n",
       " 'invaders': 3626,\n",
       " 'win': 7285,\n",
       " 'orig': 4863,\n",
       " 'arcade': 1020,\n",
       " 'game': 2985,\n",
       " 'console': 1931,\n",
       " 'press': 5244,\n",
       " 'games': 2986,\n",
       " 'std': 6292,\n",
       " 'wap': 7159,\n",
       " 'o2': 4760,\n",
       " 'uk': 6914,\n",
       " 'terms': 6605,\n",
       " 'settings': 5878,\n",
       " 'purchase': 5348,\n",
       " 'ryan': 5712,\n",
       " 'fun': 2958,\n",
       " 'practicing': 5208,\n",
       " 'making': 4232,\n",
       " 'babies': 1157,\n",
       " 'spjanuary': 6219,\n",
       " 'male': 4235,\n",
       " 'sale': 5732,\n",
       " 'hot': 3422,\n",
       " 'chat': 1702,\n",
       " 'cheaper': 1708,\n",
       " '08709222922': 96,\n",
       " 'national': 4600,\n",
       " 'rate': 5421,\n",
       " '5p': 563,\n",
       " 'cheap': 1707,\n",
       " '8p': 711,\n",
       " 'peak': 4995,\n",
       " 'weird': 7227,\n",
       " 'supposed': 6456,\n",
       " 'happening': 3247,\n",
       " 'idea': 3501,\n",
       " 'sure': 6460,\n",
       " 'pub': 5336,\n",
       " '25p': 377,\n",
       " 'alfie': 893,\n",
       " 'moon': 4487,\n",
       " 'children': 1742,\n",
       " 'song': 6147,\n",
       " 'mob': 4443,\n",
       " 'm8s': 4187,\n",
       " 'txt': 6890,\n",
       " 'charity': 1694,\n",
       " '8007': 635,\n",
       " 'nokias': 4704,\n",
       " 'poly': 5149,\n",
       " 'zed': 7485,\n",
       " '08701417012': 78,\n",
       " 'profit': 5296,\n",
       " 'face': 2675,\n",
       " 'choices': 1758,\n",
       " 'toss': 6794,\n",
       " 'coin': 1840,\n",
       " 'becoz': 1252,\n",
       " 'settle': 5879,\n",
       " 'air': 873,\n",
       " 'hoping': 3409,\n",
       " 'gudni8': 3183,\n",
       " 'mean': 4312,\n",
       " 'king': 3847,\n",
       " 'havin': 3277,\n",
       " 'credit': 2026,\n",
       " 'goin2bed': 3090,\n",
       " 'night': 4672,\n",
       " 'sweet': 6485,\n",
       " 'only1more': 4825,\n",
       " 'sleep': 6049,\n",
       " 'phones': 5050,\n",
       " 'linerental': 4031,\n",
       " '49': 508,\n",
       " 'month': 4482,\n",
       " '750': 613,\n",
       " 'ntwk': 4738,\n",
       " 'mins': 4395,\n",
       " 'price': 5256,\n",
       " 'bundle': 1516,\n",
       " 'deals': 2148,\n",
       " 'avble': 1123,\n",
       " '08001950382': 56,\n",
       " 'call2optout': 1565,\n",
       " 'mf': 4366,\n",
       " 'urgent': 6991,\n",
       " '09066350750': 225,\n",
       " 'complimentary': 1891,\n",
       " 'ibiza': 3487,\n",
       " 'holiday': 3380,\n",
       " '10': 261,\n",
       " '000': 1,\n",
       " 'cash': 1632,\n",
       " 'await': 1132,\n",
       " 'collection': 1851,\n",
       " 'sae': 5722,\n",
       " 'cs': 2048,\n",
       " 'po': 5124,\n",
       " 'box': 1414,\n",
       " '434': 490,\n",
       " 'sk3': 6032,\n",
       " '8wp': 714,\n",
       " '150': 305,\n",
       " 'ppm': 5201,\n",
       " '18': 323,\n",
       " 'teach': 6565,\n",
       " 'seen': 5831,\n",
       " 'holby': 3376,\n",
       " 'congratulations': 1920,\n",
       " 'claim': 1779,\n",
       " 'vip': 7082,\n",
       " 'row': 5679,\n",
       " 'blu': 1365,\n",
       " 'concert': 1905,\n",
       " 'november': 4730,\n",
       " 'gift': 3050,\n",
       " 'guaranteed': 3181,\n",
       " '09061104276': 187,\n",
       " 'ts': 6863,\n",
       " 'www': 7398,\n",
       " 'smsco': 6099,\n",
       " 'net': 4642,\n",
       " 'costå': 1981,\n",
       " '75max': 615,\n",
       " 'wan': 7150,\n",
       " 'lei': 3980,\n",
       " 'outside': 4887,\n",
       " 'wun': 7397,\n",
       " 'neva': 4651,\n",
       " 'mind': 4384,\n",
       " 'haven': 3273,\n",
       " 'explicitly': 2659,\n",
       " 'told': 6760,\n",
       " 'nora': 4712,\n",
       " 'gonna': 3099,\n",
       " 'bother': 1405,\n",
       " '88800': 696,\n",
       " '89034': 700,\n",
       " 'premium': 5230,\n",
       " 'phone': 5046,\n",
       " '08718711108': 136,\n",
       " 'use': 7002,\n",
       " 'ni8': 4664,\n",
       " 'getting': 3044,\n",
       " 'little': 4056,\n",
       " 'difficult': 2269,\n",
       " 'simple': 6003,\n",
       " 'enter': 2549,\n",
       " 'place': 5088,\n",
       " 'came': 1583,\n",
       " 'look': 4101,\n",
       " 'flat': 2815,\n",
       " '50s': 549,\n",
       " 'away': 1137,\n",
       " 'alot': 908,\n",
       " 'woman': 7332,\n",
       " '30': 428,\n",
       " 'uncles': 6927,\n",
       " 'atlanta': 1084,\n",
       " 'wish': 7302,\n",
       " 'semester': 5846,\n",
       " 'town': 6803,\n",
       " 'meet': 4326,\n",
       " 'exciting': 2630,\n",
       " 'adult': 822,\n",
       " 'singles': 6013,\n",
       " '86688': 679,\n",
       " 'msg': 4519,\n",
       " 'later': 3937,\n",
       " 'tonight': 6775,\n",
       " 'mate': 4284,\n",
       " 'catching': 1644,\n",
       " 'really': 5455,\n",
       " 'dudette': 2436,\n",
       " 'mesages': 4355,\n",
       " 'hurts': 3470,\n",
       " 'exam': 2626,\n",
       " 'march': 4258,\n",
       " 'sppok': 6244,\n",
       " 'halloween': 3225,\n",
       " 'nokia': 4701,\n",
       " 'logo': 4087,\n",
       " 'pic': 5059,\n",
       " 'plus': 5119,\n",
       " 'eerie': 2486,\n",
       " 'card': 1607,\n",
       " 'spook': 6235,\n",
       " 'todays': 6753,\n",
       " 'vodafone': 7098,\n",
       " 'numbers': 4744,\n",
       " 'ending': 2529,\n",
       " '0089': 4,\n",
       " 'digits': 2274,\n",
       " 'selected': 5837,\n",
       " 'received': 5473,\n",
       " '350': 448,\n",
       " 'award': 1135,\n",
       " 'matches': 4283,\n",
       " '09063442151': 208,\n",
       " 'lol': 4092,\n",
       " 'drunkard': 2423,\n",
       " 'hair': 3217,\n",
       " 'moment': 4467,\n",
       " 'wats': 7186,\n",
       " 'plan': 5093,\n",
       " 'searching': 5811,\n",
       " 'words': 7349,\n",
       " 'thank': 6632,\n",
       " 'breather': 1456,\n",
       " 'promise': 5305,\n",
       " 'granted': 3142,\n",
       " 'fulfil': 2955,\n",
       " 'wonderful': 7339,\n",
       " 'blessing': 1348,\n",
       " 'times': 6717,\n",
       " 'car': 1606,\n",
       " 'keys': 3826,\n",
       " 'purse': 5353,\n",
       " 'neighbors': 4636,\n",
       " 'smsing': 6100,\n",
       " 'xy': 7420,\n",
       " 'da': 2099,\n",
       " 'person': 5023,\n",
       " 'sort': 6163,\n",
       " 'bring': 1470,\n",
       " 'meeting': 4328,\n",
       " 'movies': 4509,\n",
       " 'laptop': 3925,\n",
       " 'working': 7352,\n",
       " 'eyes': 2671,\n",
       " 'quiz': 5386,\n",
       " 'wkly': 7318,\n",
       " 'sony': 6149,\n",
       " 'dvd': 2448,\n",
       " 'player': 5104,\n",
       " 'country': 1991,\n",
       " 'algarve': 894,\n",
       " 'ansr': 958,\n",
       " '82277': 652,\n",
       " 'sp': 6183,\n",
       " 'tyrone': 6905,\n",
       " 'reached': 5438,\n",
       " 'sch': 5781,\n",
       " 'anytime': 977,\n",
       " 'mail': 4220,\n",
       " 'miss': 4408,\n",
       " '8th': 713,\n",
       " '500': 536,\n",
       " 'msgs': 4525,\n",
       " '80488': 641,\n",
       " 'account': 778,\n",
       " 'fine': 2786,\n",
       " 'safe': 5724,\n",
       " 'wake': 7137,\n",
       " 'long': 4098,\n",
       " 'ago': 858,\n",
       " 'thing': 6664,\n",
       " 'missionary': 4413,\n",
       " 'hook': 3399,\n",
       " 'doggy': 2348,\n",
       " 'standing': 6267,\n",
       " 'video': 7065,\n",
       " 'network': 4648,\n",
       " 'half': 3220,\n",
       " 'line': 4029,\n",
       " 'rental': 5552,\n",
       " 'camcorder': 1582,\n",
       " '08000930705': 54,\n",
       " 'hate': 3266,\n",
       " 'does': 2339,\n",
       " 'turns': 6880,\n",
       " 'shopping': 5949,\n",
       " 'trip': 6840,\n",
       " 'annoying': 954,\n",
       " 'tired': 6724,\n",
       " 'tomorro': 6767,\n",
       " '2p': 415,\n",
       " 'germany': 3037,\n",
       " '08448350055': 66,\n",
       " 'bt': 1499,\n",
       " 'check': 1712,\n",
       " 'planettalkinstant': 5096,\n",
       " 'com': 1856,\n",
       " 'info': 3579,\n",
       " 'opt': 4845,\n",
       " 'make': 4228,\n",
       " 'alex': 892,\n",
       " 'knows': 3870,\n",
       " 'birthday': 1326,\n",
       " 'minutes': 4399,\n",
       " 'far': 2710,\n",
       " 'concerned': 1904,\n",
       " 'lag': 3904,\n",
       " 'sad': 5721,\n",
       " 'touch': 6798,\n",
       " 'skype': 6043,\n",
       " 'believe': 1272,\n",
       " 'leh': 3979,\n",
       " 'tot': 6795,\n",
       " 'true': 6851,\n",
       " 'muz': 4560,\n",
       " 'tog': 6754,\n",
       " 'foreign': 2871,\n",
       " 'stamps': 6264,\n",
       " 'lecture': 3973,\n",
       " 'pete': 5032,\n",
       " 'meive': 4335,\n",
       " 'hardly': 3256,\n",
       " 'gotany': 3119,\n",
       " 'jason': 3702,\n",
       " 'says': 5774,\n",
       " 'university': 6954,\n",
       " 'southern': 6179,\n",
       " 'california': 1563,\n",
       " 'swimsuit': 6491,\n",
       " 'allowed': 906,\n",
       " 'theatre': 6646,\n",
       " 'grand': 3138,\n",
       " 'prix': 5273,\n",
       " 'û_thanks': 7504,\n",
       " 'tomo': 6766,\n",
       " 'dating': 2134,\n",
       " 'service': 5872,\n",
       " 'asked': 1062,\n",
       " 'contact': 1934,\n",
       " 'shy': 5981,\n",
       " '09058091870': 175,\n",
       " 'revealed': 5616,\n",
       " 'pobox84': 5135,\n",
       " 'm26': 4181,\n",
       " '3uz': 474,\n",
       " 'darlin': 2124,\n",
       " 'youphone': 7464,\n",
       " 'im': 3522,\n",
       " 'athome': 1083,\n",
       " 'youwanna': 7469,\n",
       " 'yar': 7429,\n",
       " 'sorts': 6166,\n",
       " 'funny': 2966,\n",
       " 'things': 6665,\n",
       " 'spare': 6190,\n",
       " 'head': 3283,\n",
       " 'faith': 2689,\n",
       " 'makes': 4229,\n",
       " 'hope': 3403,\n",
       " 'beautiful': 1249,\n",
       " 'christmas': 1767,\n",
       " 'merry': 4354,\n",
       " 'miles': 4377,\n",
       " 'smiles': 6088,\n",
       " 'frm': 2935,\n",
       " 'letters': 3995,\n",
       " 'difference': 2266,\n",
       " 'keeps': 3815,\n",
       " 'smiling': 6090,\n",
       " 'nyt': 4757,\n",
       " 'mum': 4542,\n",
       " 'present': 5240,\n",
       " 'ar': 1017,\n",
       " 'saturday': 5764,\n",
       " 'cherish': 1727,\n",
       " 'brother': 1486,\n",
       " 'role': 5659,\n",
       " 'model': 4457,\n",
       " 'hours': 3430,\n",
       " 'called': 1569,\n",
       " 'family': 2700,\n",
       " 'cause': 1647,\n",
       " 'started': 6277,\n",
       " 'actor': 796,\n",
       " 'evening': 2602,\n",
       " 'unemployed': 6939,\n",
       " 'wait': 7133,\n",
       " 'bus': 1528,\n",
       " 'aft': 843,\n",
       " 'lect': 3972,\n",
       " 'lar': 3926,\n",
       " 'needs': 4629,\n",
       " 'dat': 2130,\n",
       " 'slowly': 6071,\n",
       " 'vomit': 7102,\n",
       " '1st': 339,\n",
       " 'no1': 4693,\n",
       " '8077': 643,\n",
       " 'txting': 6895,\n",
       " 'mates': 4285,\n",
       " 'getzed': 3045,\n",
       " '36504': 452,\n",
       " 'w45wq': 7119,\n",
       " '16': 318,\n",
       " 'norm150p': 4714,\n",
       " 'sura': 6459,\n",
       " 'sun': 6433,\n",
       " 'tv': 6882,\n",
       " 'tones': 6771,\n",
       " '4u': 528,\n",
       " 'rply': 5682,\n",
       " 'title': 6731,\n",
       " 'dracula': 2392,\n",
       " 'titles': 6732,\n",
       " 'ghost': 3048,\n",
       " 'addamsfa': 802,\n",
       " 'munsters': 4548,\n",
       " 'exorcist': 2644,\n",
       " 'twilight': 6886,\n",
       " 'pobox36504w45wq': 5131,\n",
       " 'god': 3085,\n",
       " 'bed': 1254,\n",
       " 'erm': 2573,\n",
       " 'woodland': 7344,\n",
       " 'avenue': 1127,\n",
       " 'parish': 4947,\n",
       " 'magazine': 4211,\n",
       " 'telephone': 6583,\n",
       " 'completely': 1887,\n",
       " 'form': 2883,\n",
       " 'clark': 1785,\n",
       " 'utter': 7016,\n",
       " 'waste': 7172,\n",
       " 'joined': 3741,\n",
       " 'league': 3964,\n",
       " 'people': 5007,\n",
       " 'deal': 2145,\n",
       " 'friend': 2928,\n",
       " 'personal': 5025,\n",
       " 'cost': 1976,\n",
       " 'rayman': 5427,\n",
       " 'golf': 3095,\n",
       " 'post': 5180,\n",
       " 'save': 5767,\n",
       " 'activ8': 792,\n",
       " 'key': 3825,\n",
       " 'termsapply': 6606,\n",
       " 'cramps': 2011,\n",
       " 'stopped': 6329,\n",
       " 'lovely': 4133,\n",
       " 'knowing': 3868,\n",
       " 'morning': 4492,\n",
       " 'write': 7377,\n",
       " 'dictionary': 2253,\n",
       " 'mode': 4456,\n",
       " 'cover': 1999,\n",
       " 'screen': 5801,\n",
       " 'hand': 3228,\n",
       " 'gently': 3030,\n",
       " 'remove': 5545,\n",
       " 'interesting': 3615,\n",
       " 'jus': 3778,\n",
       " 'fr': 2898,\n",
       " 'lunch': 4163,\n",
       " 'wif': 7274,\n",
       " 'sis': 6020,\n",
       " 'bank': 1190,\n",
       " 'money': 4473,\n",
       " 'hamster': 3227,\n",
       " 'dead': 2144,\n",
       " 'tmr': 6742,\n",
       " '1pm': 338,\n",
       " 'orchard': 4855,\n",
       " 'mrt': 4517,\n",
       " 'depends': 2209,\n",
       " 'individual': 3573,\n",
       " 'dresser': 2403,\n",
       " 'pretty': 5250,\n",
       " 'gong': 3098,\n",
       " 'kaypoh': 3810,\n",
       " 'collecting': 1850,\n",
       " 'attend': 1093,\n",
       " '2morro': 405,\n",
       " 'term': 6603,\n",
       " '2nite': 413,\n",
       " 'sexy': 5886,\n",
       " 'passion': 4965,\n",
       " 'b4': 1147,\n",
       " '09099726481': 254,\n",
       " 'luv': 4168,\n",
       " 'dena': 2199,\n",
       " 'calls': 1577,\n",
       " 'minmobsmorelkpobox177hp51fl': 4391,\n",
       " 'hows': 3437,\n",
       " 'champ': 1677,\n",
       " 'glasgow': 3068,\n",
       " 'mmm': 4432,\n",
       " 'yummy': 7476,\n",
       " 'babe': 1155,\n",
       " 'nice': 4666,\n",
       " 'jolt': 3749,\n",
       " 'suzy': 6472,\n",
       " 'daily': 2107,\n",
       " 'ûò': 7507,\n",
       " 'favour': 2728,\n",
       " 'play': 5102,\n",
       " 'driving': 2412,\n",
       " 'clas': 1786,\n",
       " 'newspapers': 4662,\n",
       " 'likely': 4019,\n",
       " 'mittelschmertz': 4424,\n",
       " 'google': 3112,\n",
       " 'paracetamol': 4936,\n",
       " 'worry': 7360,\n",
       " 'finally': 2782,\n",
       " 'decades': 2156,\n",
       " 'beer': 1259,\n",
       " 'petrol': 5034,\n",
       " 'goverment': 3124,\n",
       " 'expects': 2648,\n",
       " 'drink': 2404,\n",
       " 'drive': 2409,\n",
       " 'popping': 5165,\n",
       " 'ibuprofens': 3490,\n",
       " 'invited': 3631,\n",
       " 'xchat': 7406,\n",
       " 'final': 2780,\n",
       " 'attempt': 1091,\n",
       " 'msgrcvdhg': 4524,\n",
       " 'suite342': 6422,\n",
       " '2lands': 401,\n",
       " 'w1j6hl': 7116,\n",
       " 'ldn': 3957,\n",
       " 'yrs': 7473,\n",
       " 'ilol': 3521,\n",
       " 'personally': 5027,\n",
       " 'wuldnt': 7396,\n",
       " 'goin': 3089,\n",
       " 'mite': 4422,\n",
       " 'naughty': 4605,\n",
       " 'flirt': 2827,\n",
       " 'loving': 4140,\n",
       " 'gettin': 3043,\n",
       " 'hurt': 3469,\n",
       " 'gud': 3182,\n",
       " 'screamed': 5799,\n",
       " 'princess': 5263,\n",
       " 'carlos': 1622,\n",
       " 'vibrate': 7061,\n",
       " 'acting': 790,\n",
       " 'nyc': 4755,\n",
       " 'audiitions': 1104,\n",
       " 'trying': 6862,\n",
       " 'relocate': 5527,\n",
       " 'easy': 2462,\n",
       " 'ah': 860,\n",
       " 'sen': 5849,\n",
       " 'means': 4315,\n",
       " 'nationwide': 4601,\n",
       " 'auto': 1117,\n",
       " 'centre': 1667,\n",
       " 'newport': 4657,\n",
       " 'liked': 4018,\n",
       " 'charges': 1693,\n",
       " 'transfer': 6817,\n",
       " 'withdraw': 7310,\n",
       " 'italian': 3661,\n",
       " 'checking': 1716,\n",
       " 'iq': 3642,\n",
       " 'thinking': 6669,\n",
       " 'usf': 7008,\n",
       " 'guess': 3185,\n",
       " 'meh': 4333,\n",
       " 'shit': 5934,\n",
       " 'monkey': 4475,\n",
       " 'bitch': 1329,\n",
       " 'asshole': 1070,\n",
       " 'left': 3974,\n",
       " 'til': 6713,\n",
       " 'dinner': 2284,\n",
       " 'lost': 4117,\n",
       " 'anymore': 971,\n",
       " 'beads': 1244,\n",
       " 'ta': 6508,\n",
       " 'daaaaa': 2100,\n",
       " 'train': 6810,\n",
       " 'seat': 5813,\n",
       " 'lower': 4144,\n",
       " 'pounds': 5193,\n",
       " '08000776320': 52,\n",
       " 'important': 3539,\n",
       " '02': 9,\n",
       " 'user': 7006,\n",
       " 'lucky': 4158,\n",
       " 'log': 4083,\n",
       " 'http': 3446,\n",
       " 'urawinner': 6988,\n",
       " 'fantastic': 2708,\n",
       " 'awaiting': 1133,\n",
       " 'ahead': 862,\n",
       " 'watts': 7187,\n",
       " 'wanted': 7156,\n",
       " 'weekend': 7219,\n",
       " 'abiola': 747,\n",
       " 'shd': 5913,\n",
       " 'cos': 1974,\n",
       " 'hr': 3441,\n",
       " 'oni': 4822,\n",
       " '07xxxxxxxxx': 48,\n",
       " 'won': 7335,\n",
       " 'bonus': 1385,\n",
       " 'caller': 1570,\n",
       " 'prize': 5274,\n",
       " '06': 21,\n",
       " '03': 15,\n",
       " '2nd': 410,\n",
       " 'reach': 5436,\n",
       " '09066362231': 231,\n",
       " 'asap': 1053,\n",
       " 'box97n7qp': 1429,\n",
       " '150ppm': 311,\n",
       " 'helloooo': 3314,\n",
       " 'welcomes': 7232,\n",
       " 'enjoy': 2541,\n",
       " 'joy': 3757,\n",
       " 'mrng': 4516,\n",
       " 'lots': 4120,\n",
       " 'china': 1747,\n",
       " 'complete': 1885,\n",
       " 'gist': 3061,\n",
       " 'loved': 4131,\n",
       " 'gal': 2980,\n",
       " 'propsd': 5320,\n",
       " 'gv': 3201,\n",
       " 'lv': 4173,\n",
       " 'lttrs': 4154,\n",
       " 'frnds': 2937,\n",
       " 'threw': 6689,\n",
       " 'thm': 6677,\n",
       " 'decided': 2160,\n",
       " 'aproach': 1014,\n",
       " 'dt': 2429,\n",
       " 'truck': 6850,\n",
       " 'speeding': 6205,\n",
       " 'wn': 7324,\n",
       " 'hit': 3353,\n",
       " 'girl': 3057,\n",
       " 'ran': 5413,\n",
       " 'saved': 5768,\n",
       " 'hw': 3478,\n",
       " 'cn': 1827,\n",
       " 'run': 5703,\n",
       " 'fast': 2714,\n",
       " 'replied': 5561,\n",
       " 'boost': 1395,\n",
       " 'secret': 5818,\n",
       " 'energy': 2534,\n",
       " 'instantly': 3607,\n",
       " 'shouted': 5962,\n",
       " 'thy': 6703,\n",
       " 'lived': 4058,\n",
       " 'happily': 3250,\n",
       " '2gthr': 398,\n",
       " 'drinking': 2406,\n",
       " 'evrydy': 2621,\n",
       " 'moral': 4488,\n",
       " 'story': 6337,\n",
       " 'hv': 3475,\n",
       " 'gd': 3015,\n",
       " 'ice': 3493,\n",
       " 'cream': 2022,\n",
       " 'oso': 4869,\n",
       " 'fffff': 2753,\n",
       " 'kadeem': 3787,\n",
       " ...}"
      ]
     },
     "execution_count": 165,
     "metadata": {
      "tags": []
     },
     "output_type": "execute_result"
    }
   ],
   "source": [
    "count_vector.vocabulary_"
   ]
  },
  {
   "cell_type": "code",
   "execution_count": 166,
   "metadata": {
    "colab": {
     "base_uri": "https://localhost:8080/",
     "height": 136
    },
    "colab_type": "code",
    "executionInfo": {
     "elapsed": 6419,
     "status": "ok",
     "timestamp": 1566755655341,
     "user": {
      "displayName": "Powell Menezes",
      "photoUrl": "",
      "userId": "10764350384145038858"
     },
     "user_tz": -330
    },
    "id": "tK-5OXGi1MtK",
    "outputId": "854a053b-0c9d-4eab-99d5-491e0b2ca14a"
   },
   "outputs": [
    {
     "data": {
      "text/plain": [
       "array([[0., 0., 0., ..., 0., 0., 0.],\n",
       "       [0., 0., 0., ..., 0., 0., 0.],\n",
       "       [0., 0., 0., ..., 0., 0., 0.],\n",
       "       ...,\n",
       "       [0., 0., 0., ..., 0., 0., 0.],\n",
       "       [0., 0., 0., ..., 0., 0., 0.],\n",
       "       [0., 0., 0., ..., 0., 0., 0.]])"
      ]
     },
     "execution_count": 166,
     "metadata": {
      "tags": []
     },
     "output_type": "execute_result"
    }
   ],
   "source": [
    "pd.set_option('display.max_columns',None)\n",
    "a=training_data.toarray()\n",
    "\n",
    "a"
   ]
  },
  {
   "cell_type": "code",
   "execution_count": 167,
   "metadata": {
    "colab": {
     "base_uri": "https://localhost:8080/",
     "height": 34
    },
    "colab_type": "code",
    "executionInfo": {
     "elapsed": 5757,
     "status": "ok",
     "timestamp": 1566755655342,
     "user": {
      "displayName": "Powell Menezes",
      "photoUrl": "",
      "userId": "10764350384145038858"
     },
     "user_tz": -330
    },
    "id": "zj4xw1vU1dtD",
    "outputId": "acda0490-a10e-42d0-fea3-31e133a78ea9"
   },
   "outputs": [
    {
     "data": {
      "text/plain": [
       "array([0., 0., 0., ..., 0., 0., 0.])"
      ]
     },
     "execution_count": 167,
     "metadata": {
      "tags": []
     },
     "output_type": "execute_result"
    }
   ],
   "source": [
    "a[0]\n"
   ]
  },
  {
   "cell_type": "code",
   "execution_count": 168,
   "metadata": {
    "colab": {
     "base_uri": "https://localhost:8080/",
     "height": 34
    },
    "colab_type": "code",
    "executionInfo": {
     "elapsed": 5156,
     "status": "ok",
     "timestamp": 1566755655342,
     "user": {
      "displayName": "Powell Menezes",
      "photoUrl": "",
      "userId": "10764350384145038858"
     },
     "user_tz": -330
    },
    "id": "UAOBJmws4Ali",
    "outputId": "5b107b04-e09a-4877-9f09-1e88dc55d331"
   },
   "outputs": [
    {
     "data": {
      "text/plain": [
       "[array(['feeling', 'nt', 'sleeping'], dtype='<U34')]"
      ]
     },
     "execution_count": 168,
     "metadata": {
      "tags": []
     },
     "output_type": "execute_result"
    }
   ],
   "source": [
    "count_vector.inverse_transform(a[0])"
   ]
  },
  {
   "cell_type": "code",
   "execution_count": 169,
   "metadata": {
    "colab": {
     "base_uri": "https://localhost:8080/",
     "height": 34
    },
    "colab_type": "code",
    "executionInfo": {
     "elapsed": 4615,
     "status": "ok",
     "timestamp": 1566755655343,
     "user": {
      "displayName": "Powell Menezes",
      "photoUrl": "",
      "userId": "10764350384145038858"
     },
     "user_tz": -330
    },
    "id": "Ns8j65i66qmI",
    "outputId": "8a9b78d6-dc9c-427a-b538-f6fbb6e25fd7"
   },
   "outputs": [
    {
     "data": {
      "text/plain": [
       "'Sleeping nt feeling well'"
      ]
     },
     "execution_count": 169,
     "metadata": {
      "tags": []
     },
     "output_type": "execute_result"
    }
   ],
   "source": [
    "X_train.iloc[0]"
   ]
  },
  {
   "cell_type": "markdown",
   "metadata": {
    "colab_type": "text",
    "id": "uic5cU77k_BC"
   },
   "source": []
  },
  {
   "cell_type": "markdown",
   "metadata": {
    "colab_type": "text",
    "id": "PutbwYcTlAnl"
   },
   "source": [
    "building MultinomialNB model"
   ]
  },
  {
   "cell_type": "code",
   "execution_count": 170,
   "metadata": {
    "colab": {
     "base_uri": "https://localhost:8080/",
     "height": 34
    },
    "colab_type": "code",
    "executionInfo": {
     "elapsed": 7366,
     "status": "ok",
     "timestamp": 1566755659475,
     "user": {
      "displayName": "Powell Menezes",
      "photoUrl": "",
      "userId": "10764350384145038858"
     },
     "user_tz": -330
    },
    "id": "9hjLwfwUepUc",
    "outputId": "651a287a-9c42-407c-e564-8276d706a664"
   },
   "outputs": [
    {
     "data": {
      "text/plain": [
       "MultinomialNB(alpha=1.0, class_prior=None, fit_prior=True)"
      ]
     },
     "execution_count": 170,
     "metadata": {
      "tags": []
     },
     "output_type": "execute_result"
    }
   ],
   "source": [
    "from sklearn.naive_bayes import MultinomialNB\n",
    "naive_bayes = MultinomialNB()\n",
    "\n",
    "naive_bayes.fit(training_data,y_train)"
   ]
  },
  {
   "cell_type": "code",
   "execution_count": 0,
   "metadata": {
    "colab": {},
    "colab_type": "code",
    "id": "2eQx4yTUepZa"
   },
   "outputs": [],
   "source": [
    "predictions = naive_bayes.predict(testing_data)"
   ]
  },
  {
   "cell_type": "code",
   "execution_count": 0,
   "metadata": {
    "colab": {},
    "colab_type": "code",
    "id": "SxLQY1X_8HO_"
   },
   "outputs": [],
   "source": [
    "actual=np.array(y_test)"
   ]
  },
  {
   "cell_type": "code",
   "execution_count": 173,
   "metadata": {
    "colab": {
     "base_uri": "https://localhost:8080/",
     "height": 34
    },
    "colab_type": "code",
    "executionInfo": {
     "elapsed": 1104,
     "status": "ok",
     "timestamp": 1566755664033,
     "user": {
      "displayName": "Powell Menezes",
      "photoUrl": "",
      "userId": "10764350384145038858"
     },
     "user_tz": -330
    },
    "id": "S9LEM4fg8HJ8",
    "outputId": "b1d35fb6-6449-4783-c816-49818b9fd953"
   },
   "outputs": [
    {
     "data": {
      "text/plain": [
       "array([0, 0, 0, ..., 0, 0, 0])"
      ]
     },
     "execution_count": 173,
     "metadata": {
      "tags": []
     },
     "output_type": "execute_result"
    }
   ],
   "source": [
    "predictions"
   ]
  },
  {
   "cell_type": "code",
   "execution_count": 174,
   "metadata": {
    "colab": {
     "base_uri": "https://localhost:8080/",
     "height": 34
    },
    "colab_type": "code",
    "executionInfo": {
     "elapsed": 823,
     "status": "ok",
     "timestamp": 1566755664034,
     "user": {
      "displayName": "Powell Menezes",
      "photoUrl": "",
      "userId": "10764350384145038858"
     },
     "user_tz": -330
    },
    "id": "NHjZBFPM8HIi",
    "outputId": "c26f1bb6-ef34-4ae5-f649-8a75787c8d0a"
   },
   "outputs": [
    {
     "data": {
      "text/plain": [
       "1093"
      ]
     },
     "execution_count": 174,
     "metadata": {
      "tags": []
     },
     "output_type": "execute_result"
    }
   ],
   "source": [
    "c=0\n",
    "for i in range(len(predictions)):\n",
    "  if predictions[i]==actual[i]:\n",
    "    c=c+1\n",
    "c"
   ]
  },
  {
   "cell_type": "code",
   "execution_count": 175,
   "metadata": {
    "colab": {
     "base_uri": "https://localhost:8080/",
     "height": 34
    },
    "colab_type": "code",
    "executionInfo": {
     "elapsed": 1776,
     "status": "ok",
     "timestamp": 1566755665222,
     "user": {
      "displayName": "Powell Menezes",
      "photoUrl": "",
      "userId": "10764350384145038858"
     },
     "user_tz": -330
    },
    "id": "DW_JXtYz82ka",
    "outputId": "0d38fc59-1537-43ed-8119-53307a2b7334"
   },
   "outputs": [
    {
     "data": {
      "text/plain": [
       "1115"
      ]
     },
     "execution_count": 175,
     "metadata": {
      "tags": []
     },
     "output_type": "execute_result"
    }
   ],
   "source": [
    "len(predictions)"
   ]
  },
  {
   "cell_type": "code",
   "execution_count": 176,
   "metadata": {
    "colab": {
     "base_uri": "https://localhost:8080/",
     "height": 85
    },
    "colab_type": "code",
    "executionInfo": {
     "elapsed": 1559,
     "status": "ok",
     "timestamp": 1566755665224,
     "user": {
      "displayName": "Powell Menezes",
      "photoUrl": "",
      "userId": "10764350384145038858"
     },
     "user_tz": -330
    },
    "id": "PtCoVwcfepTX",
    "outputId": "a372863b-50c8-4f38-d731-e031f784adc6"
   },
   "outputs": [
    {
     "name": "stdout",
     "output_type": "stream",
     "text": [
      "Accuracy score: 0.9802690582959641\n",
      "Precision score: 1.0\n",
      "Recall score: 0.841726618705036\n",
      "F1 score: 0.9140624999999999\n"
     ]
    }
   ],
   "source": [
    "from sklearn.metrics import accuracy_score, precision_score, recall_score, f1_score\n",
    "print('Accuracy score: {}'.format(accuracy_score(y_test, predictions)))\n",
    "print('Precision score: {}'.format(precision_score(y_test, predictions)))\n",
    "print('Recall score: {}'.format(recall_score(y_test, predictions)))\n",
    "print('F1 score: {}'.format(f1_score(y_test, predictions)))\n"
   ]
  },
  {
   "cell_type": "code",
   "execution_count": 177,
   "metadata": {
    "colab": {
     "base_uri": "https://localhost:8080/",
     "height": 170
    },
    "colab_type": "code",
    "executionInfo": {
     "elapsed": 2475,
     "status": "ok",
     "timestamp": 1566755666379,
     "user": {
      "displayName": "Powell Menezes",
      "photoUrl": "",
      "userId": "10764350384145038858"
     },
     "user_tz": -330
    },
    "id": "yJ9gKm090e0u",
    "outputId": "d0b4895a-4180-4909-992e-f52821122bf8"
   },
   "outputs": [
    {
     "name": "stdout",
     "output_type": "stream",
     "text": [
      "              precision    recall  f1-score   support\n",
      "\n",
      "           0       0.98      1.00      0.99       976\n",
      "           1       1.00      0.84      0.91       139\n",
      "\n",
      "    accuracy                           0.98      1115\n",
      "   macro avg       0.99      0.92      0.95      1115\n",
      "weighted avg       0.98      0.98      0.98      1115\n",
      "\n"
     ]
    }
   ],
   "source": [
    "\n",
    "from sklearn import metrics\n",
    "print(metrics.classification_report(y_test, predictions))"
   ]
  },
  {
   "cell_type": "code",
   "execution_count": 178,
   "metadata": {
    "colab": {
     "base_uri": "https://localhost:8080/",
     "height": 51
    },
    "colab_type": "code",
    "executionInfo": {
     "elapsed": 2221,
     "status": "ok",
     "timestamp": 1566755666380,
     "user": {
      "displayName": "Powell Menezes",
      "photoUrl": "",
      "userId": "10764350384145038858"
     },
     "user_tz": -330
    },
    "id": "mdPejtRi6iHV",
    "outputId": "e859cf71-6ee6-4dd3-f6cd-2ea8e423b982"
   },
   "outputs": [
    {
     "data": {
      "text/plain": [
       "array([[976,   0],\n",
       "       [ 22, 117]])"
      ]
     },
     "execution_count": 178,
     "metadata": {
      "tags": []
     },
     "output_type": "execute_result"
    }
   ],
   "source": [
    "metrics.confusion_matrix(y_test, predictions)"
   ]
  },
  {
   "cell_type": "code",
   "execution_count": 179,
   "metadata": {
    "colab": {
     "base_uri": "https://localhost:8080/",
     "height": 34
    },
    "colab_type": "code",
    "executionInfo": {
     "elapsed": 1985,
     "status": "ok",
     "timestamp": 1566755666383,
     "user": {
      "displayName": "Powell Menezes",
      "photoUrl": "",
      "userId": "10764350384145038858"
     },
     "user_tz": -330
    },
    "id": "kuXnAiHmepNo",
    "outputId": "dd7c9660-da5b-4461-8e82-a87e8191849c"
   },
   "outputs": [
    {
     "data": {
      "text/plain": [
       "'Convey my regards to him'"
      ]
     },
     "execution_count": 179,
     "metadata": {
      "tags": []
     },
     "output_type": "execute_result"
    }
   ],
   "source": [
    "X_test.iloc[0]"
   ]
  },
  {
   "cell_type": "code",
   "execution_count": 180,
   "metadata": {
    "colab": {
     "base_uri": "https://localhost:8080/",
     "height": 34
    },
    "colab_type": "code",
    "executionInfo": {
     "elapsed": 1793,
     "status": "ok",
     "timestamp": 1566755666383,
     "user": {
      "displayName": "Powell Menezes",
      "photoUrl": "",
      "userId": "10764350384145038858"
     },
     "user_tz": -330
    },
    "id": "tgQHE1hzepH3",
    "outputId": "8afe9552-c866-4022-d0c4-18d9012174f6"
   },
   "outputs": [
    {
     "data": {
      "text/plain": [
       "array([0])"
      ]
     },
     "execution_count": 180,
     "metadata": {
      "tags": []
     },
     "output_type": "execute_result"
    }
   ],
   "source": [
    "predictions = naive_bayes.predict(testing_data[0])\n",
    "predictions"
   ]
  },
  {
   "cell_type": "code",
   "execution_count": 181,
   "metadata": {
    "colab": {
     "base_uri": "https://localhost:8080/",
     "height": 34
    },
    "colab_type": "code",
    "executionInfo": {
     "elapsed": 13659,
     "status": "ok",
     "timestamp": 1566755678441,
     "user": {
      "displayName": "Powell Menezes",
      "photoUrl": "",
      "userId": "10764350384145038858"
     },
     "user_tz": -330
    },
    "id": "Rq5gSDGJepCo",
    "outputId": "f4cc6b3d-238f-4ecf-a195-f6543c209308"
   },
   "outputs": [
    {
     "data": {
      "text/plain": [
       "array([0])"
      ]
     },
     "execution_count": 181,
     "metadata": {
      "tags": []
     },
     "output_type": "execute_result"
    }
   ],
   "source": [
    "\n",
    "X_test.iloc[1]\n",
    "predictions = naive_bayes.predict(testing_data[1])\n",
    "predictions"
   ]
  },
  {
   "cell_type": "code",
   "execution_count": 182,
   "metadata": {
    "colab": {
     "base_uri": "https://localhost:8080/",
     "height": 51
    },
    "colab_type": "code",
    "executionInfo": {
     "elapsed": 13499,
     "status": "ok",
     "timestamp": 1566755678444,
     "user": {
      "displayName": "Powell Menezes",
      "photoUrl": "",
      "userId": "10764350384145038858"
     },
     "user_tz": -330
    },
    "id": "rQ4KdKjDeo8S",
    "outputId": "7db0d7bc-1a08-42cd-9957-9cb199c1fa89"
   },
   "outputs": [
    {
     "name": "stdout",
     "output_type": "stream",
     "text": [
      "I emailed yifeng my part oredi.. Can Ì_ get it fr him..\n"
     ]
    },
    {
     "data": {
      "text/plain": [
       "array([0])"
      ]
     },
     "execution_count": 182,
     "metadata": {
      "tags": []
     },
     "output_type": "execute_result"
    }
   ],
   "source": [
    "print(X_test.iloc[30])\n",
    "predictions = naive_bayes.predict(testing_data[30])\n",
    "predictions"
   ]
  },
  {
   "cell_type": "markdown",
   "metadata": {
    "colab_type": "text",
    "id": "aNNrPbkplhHh"
   },
   "source": [
    "I have built and model with overall 98% accuracy "
   ]
  },
  {
   "cell_type": "code",
   "execution_count": 0,
   "metadata": {
    "colab": {},
    "colab_type": "code",
    "id": "zE_27Haclhjv"
   },
   "outputs": [],
   "source": [
    "ham_words = ''\n",
    "spam_words = ''\n",
    "spam = df_sms[df_sms['label']==1]\n",
    "ham =df_sms[df_sms['label']==0]"
   ]
  },
  {
   "cell_type": "code",
   "execution_count": 184,
   "metadata": {
    "colab": {
     "base_uri": "https://localhost:8080/",
     "height": 51
    },
    "colab_type": "code",
    "executionInfo": {
     "elapsed": 12676,
     "status": "ok",
     "timestamp": 1566755678447,
     "user": {
      "displayName": "Powell Menezes",
      "photoUrl": "",
      "userId": "10764350384145038858"
     },
     "user_tz": -330
    },
    "id": "302C0wDyoCMw",
    "outputId": "f2f4f22a-9fd9-4c23-d493-757117f8910c"
   },
   "outputs": [
    {
     "name": "stdout",
     "output_type": "stream",
     "text": [
      "[nltk_data] Downloading package stopwords to /root/nltk_data...\n",
      "[nltk_data]   Package stopwords is already up-to-date!\n"
     ]
    }
   ],
   "source": [
    "import re\n",
    "import nltk\n",
    "nltk.download('stopwords')\n",
    "from nltk.corpus import stopwords\n",
    "spam_words=''\n",
    "ham_words=''\n",
    "for msg in spam['sms']:\n",
    "    text=re.sub('[^a-zA-Z]',' ',msg)\n",
    "    text = text.lower()\n",
    "    text=text.split()\n",
    "    text=[word for word in text if not word in set(stopwords.words('english'))]\n",
    "    for words in text:\n",
    "        spam_words = spam_words+words+' '\n",
    "        \n",
    "for msg in ham['sms']:\n",
    "    text=re.sub('[^a-zA-Z]',' ',msg)\n",
    "    text = text.lower()\n",
    "    text=text.split()\n",
    "    text=[word for word in text if not word in set(stopwords.words('english'))]\n",
    "    for words in text:\n",
    "        ham_words = ham_words+words+' '"
   ]
  },
  {
   "cell_type": "code",
   "execution_count": 0,
   "metadata": {
    "colab": {},
    "colab_type": "code",
    "id": "6pi7TSEcoMIF"
   },
   "outputs": [],
   "source": [
    "from wordcloud import WordCloud"
   ]
  },
  {
   "cell_type": "code",
   "execution_count": 0,
   "metadata": {
    "colab": {},
    "colab_type": "code",
    "id": "QPtJOf3rpTzW"
   },
   "outputs": [],
   "source": [
    "# Generate a word cloud image\n",
    "spam_wordcloud = WordCloud(width=1200, height=720).generate(spam_words)\n"
   ]
  },
  {
   "cell_type": "code",
   "execution_count": 187,
   "metadata": {
    "colab": {
     "base_uri": "https://localhost:8080/",
     "height": 679
    },
    "colab_type": "code",
    "executionInfo": {
     "elapsed": 68704,
     "status": "ok",
     "timestamp": 1566755734866,
     "user": {
      "displayName": "Powell Menezes",
      "photoUrl": "",
      "userId": "10764350384145038858"
     },
     "user_tz": -330
    },
    "id": "ns88DhuLpWMl",
    "outputId": "a5507929-96ee-4842-a24b-9cd51d4e8ece"
   },
   "outputs": [
    {
     "data": {
      "image/png": "[encoded data removed]",
      "text/plain": [
       "<Figure size 1152x648 with 1 Axes>"
      ]
     },
     "metadata": {
      "tags": []
     },
     "output_type": "display_data"
    }
   ],
   "source": [
    "#Spam Word cloud\n",
    "plt.figure( figsize=(16,9), facecolor='w')\n",
    "plt.imshow(spam_wordcloud)\n",
    "plt.title('Spam word cloud')\n",
    "plt.axis(\"off\")\n",
    "plt.tight_layout(pad=0)\n",
    "plt.show()"
   ]
  },
  {
   "cell_type": "code",
   "execution_count": 0,
   "metadata": {
    "colab": {},
    "colab_type": "code",
    "id": "qeIwf0Iwpb9l"
   },
   "outputs": [],
   "source": []
  }
 ],
 "metadata": {
  "colab": {
   "collapsed_sections": [],
   "name": "Detection of SMS Spam messages using Naive Bayes.ipynb",
   "provenance": [],
   "version": "0.3.2"
  },
  "kernelspec": {
   "display_name": "Python 3",
   "language": "python",
   "name": "python3"
  },
  "language_info": {
   "codemirror_mode": {
    "name": "ipython",
    "version": 3
   },
   "file_extension": ".py",
   "mimetype": "text/x-python",
   "name": "python",
   "nbconvert_exporter": "python",
   "pygments_lexer": "ipython3",
   "version": "3.7.1"
  }
 },
 "nbformat": 4,
 "nbformat_minor": 1
}
